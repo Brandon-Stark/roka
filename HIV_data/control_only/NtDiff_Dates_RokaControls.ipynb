{
 "cells": [
  {
   "cell_type": "markdown",
   "metadata": {},
   "source": [
    "#### This notebook re-creates plots similar to Path-O-Gen output but the evolutionary distance is pairwise nt distances only (no correction for back mutation via evolutionary models). This should output a clock rate based on a regression that is unaffected by recombination.\n",
    "\n",
    "#### The goal of doing this is to check whether this is similar to clock estimates from Path-O-Gen and from BEAST control runs.\n",
    "\n",
    "#### Reference sequence is the most basal sequence from the best-rooted tree exported from Path-O-Gen\n",
    "* Reference for Env: H0725135|1997-07-25|env\n",
    "* Reference for Prot: R0222042|2007-02-22|prot (note outgroup was actually outclade of 3 taxa. Using this one)\n",
    "* Reference for RT: W0530014|2012-05-30|RT (note outgroup was actually outclade of 3 taxa. Using this one)\n"
   ]
  },
  {
   "cell_type": "code",
   "execution_count": 77,
   "metadata": {
    "collapsed": false
   },
   "outputs": [],
   "source": [
    "#Import necessary libraries\n",
    "import matplotlib\n",
    "import numpy as np\n",
    "import matplotlib.pyplot as plt\n",
    "from Bio import SeqIO\n",
    "%matplotlib inline"
   ]
  },
  {
   "cell_type": "markdown",
   "metadata": {},
   "source": [
    "## ENV sequences"
   ]
  },
  {
   "cell_type": "code",
   "execution_count": 6,
   "metadata": {
    "collapsed": false
   },
   "outputs": [],
   "source": [
    "# Measure raw clock rate for Env\n",
    "# Once alignment is read in need to 1) define the reference, 2) count nt diffs from ref for each seq \n",
    "# 3) plot nt differences as a function of sampling date.\n",
    "\n",
    "env_ntdiff_dict = {}\n",
    "\n",
    "with open(\"Env_PathOGen_Data.txt\", 'rU') as f: #rU allows \\n and \\r to designate newline\n",
    "\tfor line in f:\n",
    "\t\tsplit_line = line.split(\"\\t\")\n",
    "\t\tenv_ntdiff_dict[split_line[0]] = {'date': split_line[1].strip()}"
   ]
  },
  {
   "cell_type": "code",
   "execution_count": 35,
   "metadata": {
    "collapsed": false
   },
   "outputs": [
    {
     "name": "stdout",
     "output_type": "stream",
     "text": [
      "2007.139858544376\n"
     ]
    }
   ],
   "source": [
    "print env_ntdiff_dict['R0221192|2007-02-21|env']['date']"
   ]
  },
  {
   "cell_type": "code",
   "execution_count": 12,
   "metadata": {
    "collapsed": true
   },
   "outputs": [],
   "source": [
    "# Add Env control sequences to the env_ntdiff dictionary based on taxon names\n",
    "env_infile = open('env_controls_aligned_DATED.fasta','rU')\n",
    "env_seq_dict = SeqIO.to_dict(SeqIO.parse(env_infile, \"fasta\"))\n",
    "env_infile.close()\n",
    "\n",
    "for key in env_seq_dict.keys():\n",
    "    env_ntdiff_dict[key]['seq'] = env_seq_dict[key].seq.upper()"
   ]
  },
  {
   "cell_type": "code",
   "execution_count": 138,
   "metadata": {
    "collapsed": true
   },
   "outputs": [],
   "source": [
    "def count_nt_diffs(reference,seq):\n",
    "    counter = 0\n",
    "    for (a,b) in zip(reference,seq):\n",
    "        if a == b:\n",
    "            counter += 0\n",
    "        elif a == '-':\n",
    "            continue\n",
    "        elif b == '-':\n",
    "            continue\n",
    "        elif a in ['A','C','G','T'] and b in ['A','C','G','T']:\n",
    "            if a != b:\n",
    "                counter += 1\n",
    "    return counter"
   ]
  },
  {
   "cell_type": "code",
   "execution_count": 137,
   "metadata": {
    "collapsed": false
   },
   "outputs": [
    {
     "name": "stdout",
     "output_type": "stream",
     "text": [
      "0\n"
     ]
    }
   ],
   "source": [
    "#TEST NT Counter Function\n",
    "seq1 = 'AAATTTMGR-'\n",
    "seq2 = 'AAAYRMRXXX'\n",
    "\n",
    "trial_count = count_nt_diffs(seq1, seq2)\n",
    "print trial_count"
   ]
  },
  {
   "cell_type": "code",
   "execution_count": 139,
   "metadata": {
    "collapsed": false
   },
   "outputs": [],
   "source": [
    "env_reference_seq = env_ntdiff_dict['H0725135|1997-07-25|env']['seq']\n",
    "#print len(env_ntdiff_dict['H0725135|1997-07-25|env']['seq'])\n",
    "\n",
    "for key in env_ntdiff_dict.keys():\n",
    "    if key == 'H0725135|1997-07-25|env':\n",
    "        env_ntdiff_dict[key]['diff_per_site'] = 'Reference'\n",
    "    else:\n",
    "        comp_seq = env_ntdiff_dict[key]['seq']\n",
    "        nt_diffs = count_nt_diffs(env_reference_seq, comp_seq)\n",
    "        env_ntdiff_dict[key]['nt_diffs'] = nt_diffs\n",
    "        nt_diff_per_site = (float(nt_diffs)/float(len(comp_seq)))\n",
    "        env_ntdiff_dict[key]['diff_per_site'] = nt_diff_per_site"
   ]
  },
  {
   "cell_type": "code",
   "execution_count": 140,
   "metadata": {
    "collapsed": false
   },
   "outputs": [],
   "source": [
    "env_dates_list = []\n",
    "env_nt_diffs_list = []\n",
    "for key in env_ntdiff_dict.keys():\n",
    "    if key == 'H0725135|1997-07-25|env':\n",
    "        continue #this is the reference\n",
    "    else:\n",
    "        env_dates_list.append(float(env_ntdiff_dict[key]['date']))\n",
    "        env_nt_diffs_list.append(float(env_ntdiff_dict[key]['diff_per_site']))"
   ]
  },
  {
   "cell_type": "code",
   "execution_count": 142,
   "metadata": {
    "collapsed": false
   },
   "outputs": [
    {
     "name": "stdout",
     "output_type": "stream",
     "text": [
      "[  1.70162487e-03  -3.32370129e+00]\n"
     ]
    },
    {
     "data": {
      "image/png": "[encoded data removed]",
      "text/plain": [
       "<matplotlib.figure.Figure at 0x10bb83550>"
      ]
     },
     "metadata": {},
     "output_type": "display_data"
    }
   ],
   "source": [
    "env_linear_line_fit = np.polyfit(env_dates_list, env_nt_diffs_list, deg=1)#1-degree ploynomial is a linear line\n",
    "print env_linear_line_fit\n",
    "#returns a list where [0] is slope and [1] is the y-intercept\n",
    "\n",
    "fig, ax = plt.subplots()\n",
    "plotting_years = range(1990,2020)\n",
    "\n",
    "ax.plot(plotting_years, (env_linear_line_fit[0] * np.array(plotting_years) + env_linear_line_fit[1]), color='red')\n",
    "ax.scatter(env_dates_list, env_nt_diffs_list)\n",
    "ax.axis([1990,2020,0,0.25])\n",
    "plt.xlabel(\"Sampling Year\")\n",
    "plt.ylabel(\"Nt differences per site\")\n",
    "plt.title('HIV Controls - ENV (slope = 1.70e-03)')\n",
    "\n",
    "plt.savefig(\"ENV_clockplot.pdf\")\n",
    "plt.savefig(\"ENV_clockplot.png\")"
   ]
  },
  {
   "cell_type": "markdown",
   "metadata": {},
   "source": [
    "## Prot Sequences"
   ]
  },
  {
   "cell_type": "code",
   "execution_count": 168,
   "metadata": {
    "collapsed": false
   },
   "outputs": [
    {
     "name": "stdout",
     "output_type": "stream",
     "text": [
      "1997.5627424138718\n"
     ]
    }
   ],
   "source": [
    "prot_ntdiff_dict = {}\n",
    "\n",
    "with open(\"Prot_PathOGen_Data.txt\", 'rU') as f: #rU allows \\n and \\r to designate newline\n",
    "\tfor line in f:\n",
    "\t\tsplit_line = line.split(\"\\t\")\n",
    "\t\tprot_ntdiff_dict[split_line[0]] = {'date': split_line[1].strip()}\n",
    "\n",
    "print prot_ntdiff_dict['H0725135|1997-07-25|prot']['date']"
   ]
  },
  {
   "cell_type": "code",
   "execution_count": 169,
   "metadata": {
    "collapsed": true
   },
   "outputs": [],
   "source": [
    "# Add Prot control sequences to the prot_ntdiff dictionary based on taxon names\n",
    "prot_infile = open('prot_controls_aligned_DATED.fasta','rU')\n",
    "prot_seq_dict = SeqIO.to_dict(SeqIO.parse(prot_infile, \"fasta\"))\n",
    "prot_infile.close()\n",
    "\n",
    "for key in prot_seq_dict.keys():\n",
    "    prot_ntdiff_dict[key]['seq'] = prot_seq_dict[key].seq.upper()"
   ]
  },
  {
   "cell_type": "code",
   "execution_count": 170,
   "metadata": {
    "collapsed": false
   },
   "outputs": [],
   "source": [
    "prot_reference_seq = prot_ntdiff_dict['H0725135|1997-07-25|prot']['seq']\n",
    "#print len(prot_ntdiff_dict['R0222042|2007-02-22|prot']['seq'])\n",
    "\n",
    "for key in prot_ntdiff_dict.keys():\n",
    "    if key == 'H0725135|1997-07-25|prot':\n",
    "        prot_ntdiff_dict[key]['diff_per_site'] = 'Reference'\n",
    "    else:\n",
    "        comp_seq = prot_ntdiff_dict[key]['seq']\n",
    "        nt_diffs = count_nt_diffs(prot_reference_seq, comp_seq)\n",
    "        prot_ntdiff_dict[key]['nt_diffs'] = nt_diffs\n",
    "        nt_diff_per_site = (float(nt_diffs)/float(len(comp_seq)))\n",
    "        prot_ntdiff_dict[key]['diff_per_site'] = nt_diff_per_site"
   ]
  },
  {
   "cell_type": "code",
   "execution_count": 158,
   "metadata": {
    "collapsed": false
   },
   "outputs": [],
   "source": [
    "#check and make sure things are looking okay!\n",
    "#for key in prot_ntdiff_dict.keys():\n",
    "#    if key == 'R0222042|2007-02-22|prot':\n",
    "#      continue\n",
    "#    else:\n",
    "#        print key\n",
    "#        print prot_ntdiff_dict[key]['nt_diffs']\n",
    "#        print prot_ntdiff_dict[key]['diff_per_site']\n"
   ]
  },
  {
   "cell_type": "code",
   "execution_count": 171,
   "metadata": {
    "collapsed": true
   },
   "outputs": [],
   "source": [
    "prot_dates_list = []\n",
    "prot_nt_diffs_list = []\n",
    "for key in prot_ntdiff_dict.keys():\n",
    "    if key == 'H0725135|1997-07-25|prot':\n",
    "        continue #this is the reference\n",
    "    else:\n",
    "        prot_dates_list.append(float(prot_ntdiff_dict[key]['date']))\n",
    "        prot_nt_diffs_list.append(float(prot_ntdiff_dict[key]['diff_per_site']))"
   ]
  },
  {
   "cell_type": "code",
   "execution_count": 173,
   "metadata": {
    "collapsed": false
   },
   "outputs": [
    {
     "name": "stdout",
     "output_type": "stream",
     "text": [
      "[  1.36477707e-03  -2.71350797e+00]\n"
     ]
    },
    {
     "data": {
      "image/png": "[encoded data removed]",
      "text/plain": [
       "<matplotlib.figure.Figure at 0x10bd88950>"
      ]
     },
     "metadata": {},
     "output_type": "display_data"
    }
   ],
   "source": [
    "prot_linear_line_fit = np.polyfit(prot_dates_list, prot_nt_diffs_list, deg=1)#1-degree ploynomial is a linear line\n",
    "print prot_linear_line_fit\n",
    "#returns a list where [0] is slope and [1] is the y-intercept\n",
    "\n",
    "fig, ax = plt.subplots()\n",
    "plotting_years = range(1990,2020)\n",
    "\n",
    "ax.plot(plotting_years, (prot_linear_line_fit[0] * np.array(plotting_years) + prot_linear_line_fit[1]), color='red')\n",
    "ax.scatter(prot_dates_list, prot_nt_diffs_list)\n",
    "ax.axis([1990,2020,0,0.25])\n",
    "plt.xlabel(\"Sampling Year\")\n",
    "plt.ylabel(\"Nt differences per site\")\n",
    "plt.title('HIV Controls - PROT (slope = 1.36e-03)')\n",
    "\n",
    "plt.savefig(\"Prot_clockplot_H0725135_OUT.pdf\")\n",
    "plt.savefig(\"Prot_clockplot_H0725135_OUT.png\")"
   ]
  },
  {
   "cell_type": "code",
   "execution_count": 161,
   "metadata": {
    "collapsed": false
   },
   "outputs": [
    {
     "name": "stdout",
     "output_type": "stream",
     "text": [
      "[  7.02428528e-04  -1.38077191e+00]\n"
     ]
    },
    {
     "data": {
      "image/png": "[encoded data removed]",
      "text/plain": [
       "<matplotlib.figure.Figure at 0x10baf9cd0>"
      ]
     },
     "metadata": {},
     "output_type": "display_data"
    }
   ],
   "source": [
    "#SENSITIVITY ANALYSIS IF USE DIFFERENT OUTGROUP\n",
    "#SLOPE ESTIMATE DOES CHANGE WHEN I USE A DIFFERENT OUTGROUP...\n",
    "prot_reference_seq = prot_ntdiff_dict['T0527136|2009-05-27|prot']['seq']\n",
    "\n",
    "for key in prot_ntdiff_dict.keys():\n",
    "    if key == 'T0527136|2009-05-27|prot':\n",
    "        prot_ntdiff_dict[key]['diff_per_site'] = 'Reference'\n",
    "    else:\n",
    "        comp_seq = prot_ntdiff_dict[key]['seq']\n",
    "        nt_diffs = count_nt_diffs(prot_reference_seq, comp_seq)\n",
    "        prot_ntdiff_dict[key]['nt_diffs'] = nt_diffs\n",
    "        nt_diff_per_site = (float(nt_diffs)/float(len(comp_seq)))\n",
    "        prot_ntdiff_dict[key]['diff_per_site'] = nt_diff_per_site\n",
    "        \n",
    "prot_dates_list = []\n",
    "prot_nt_diffs_list = []\n",
    "for key in prot_ntdiff_dict.keys():\n",
    "    if key == 'T0527136|2009-05-27|prot':\n",
    "        continue #this is the reference\n",
    "    else:\n",
    "        prot_dates_list.append(float(prot_ntdiff_dict[key]['date']))\n",
    "        prot_nt_diffs_list.append(float(prot_ntdiff_dict[key]['diff_per_site']))\n",
    "        \n",
    "prot_linear_line_fit = np.polyfit(prot_dates_list, prot_nt_diffs_list, deg=1)#1-degree ploynomial is a linear line\n",
    "print prot_linear_line_fit\n",
    "#returns a list where [0] is slope and [1] is the y-intercept\n",
    "\n",
    "fig, ax = plt.subplots()\n",
    "plotting_years = range(1990,2020)\n",
    "\n",
    "ax.plot(plotting_years, (prot_linear_line_fit[0] * np.array(plotting_years) + prot_linear_line_fit[1]), color='red')\n",
    "ax.scatter(prot_dates_list, prot_nt_diffs_list)\n",
    "ax.axis([1990,2020,0,0.25])\n",
    "plt.xlabel(\"Sampling Year\")\n",
    "plt.ylabel(\"Nt differences per site\")\n",
    "plt.title('HIV Controls - PROT (slope = 7.02e-04)')\n",
    "\n",
    "plt.savefig(\"Prot_clockplot_T0527136_OUT.pdf\")\n",
    "plt.savefig(\"Prot_clockplot_T0527136_OUT.png\")"
   ]
  },
  {
   "cell_type": "markdown",
   "metadata": {},
   "source": [
    "## RT Sequences"
   ]
  },
  {
   "cell_type": "code",
   "execution_count": 163,
   "metadata": {
    "collapsed": false
   },
   "outputs": [
    {
     "name": "stdout",
     "output_type": "stream",
     "text": [
      "2012.410107232489\n"
     ]
    }
   ],
   "source": [
    "RT_ntdiff_dict = {}\n",
    "\n",
    "with open(\"RT_PathOGen_Data.txt\", 'rU') as f: #rU allows \\n and \\r to designate newline\n",
    "\tfor line in f:\n",
    "\t\tsplit_line = line.split(\"\\t\")\n",
    "\t\tRT_ntdiff_dict[split_line[0]] = {'date': split_line[1].strip()}\n",
    "\n",
    "# Add RT control sequences to the prot_ntdiff dictionary based on taxon names\n",
    "RT_infile = open('RT_controls_aligned_DATED.fasta','rU')\n",
    "RT_seq_dict = SeqIO.to_dict(SeqIO.parse(RT_infile, \"fasta\"))\n",
    "RT_infile.close()\n",
    "\n",
    "for key in RT_seq_dict.keys():\n",
    "    RT_ntdiff_dict[key]['seq'] = RT_seq_dict[key].seq.upper()\n",
    "\n",
    "print RT_ntdiff_dict['W0530014|2012-05-30|RT']['date']"
   ]
  },
  {
   "cell_type": "code",
   "execution_count": 175,
   "metadata": {
    "collapsed": false
   },
   "outputs": [
    {
     "name": "stdout",
     "output_type": "stream",
     "text": [
      "[  1.25448973e-03  -2.49180545e+00]\n"
     ]
    },
    {
     "data": {
      "image/png": "[encoded data removed]",
      "text/plain": [
       "<matplotlib.figure.Figure at 0x10bc85ad0>"
      ]
     },
     "metadata": {},
     "output_type": "display_data"
    }
   ],
   "source": [
    "RT_reference_seq = RT_ntdiff_dict['H0725135|1997-07-25|RT']['seq']\n",
    "\n",
    "for key in RT_ntdiff_dict.keys():\n",
    "    if key == 'H0725135|1997-07-25|RT':\n",
    "        RT_ntdiff_dict[key]['diff_per_site'] = 'Reference'\n",
    "    else:\n",
    "        comp_seq = RT_ntdiff_dict[key]['seq']\n",
    "        nt_diffs = count_nt_diffs(RT_reference_seq, comp_seq)\n",
    "        RT_ntdiff_dict[key]['nt_diffs'] = nt_diffs\n",
    "        nt_diff_per_site = (float(nt_diffs)/float(len(comp_seq)))\n",
    "        RT_ntdiff_dict[key]['diff_per_site'] = nt_diff_per_site\n",
    "        \n",
    "RT_dates_list = []\n",
    "RT_nt_diffs_list = []\n",
    "for key in RT_ntdiff_dict.keys():\n",
    "    if key == 'H0725135|1997-07-25|RT':\n",
    "        continue #this is the reference\n",
    "    else:\n",
    "        RT_dates_list.append(float(RT_ntdiff_dict[key]['date']))\n",
    "        RT_nt_diffs_list.append(float(RT_ntdiff_dict[key]['diff_per_site']))\n",
    "        \n",
    "RT_linear_line_fit = np.polyfit(RT_dates_list, RT_nt_diffs_list, deg=1)#1-degree ploynomial is a linear line\n",
    "print RT_linear_line_fit\n",
    "#returns a list where [0] is slope and [1] is the y-intercept\n",
    "\n",
    "fig, ax = plt.subplots()\n",
    "plotting_years = range(1990,2020)\n",
    "\n",
    "ax.plot(plotting_years, (RT_linear_line_fit[0] * np.array(plotting_years) + RT_linear_line_fit[1]), color='red')\n",
    "ax.scatter(RT_dates_list, RT_nt_diffs_list)\n",
    "ax.axis([1990,2020,0,0.25])\n",
    "plt.xlabel(\"Sampling Year\")\n",
    "plt.ylabel(\"Nt differences per site\")\n",
    "plt.title('HIV Controls - RT (slope = 1.25e-03)')\n",
    "\n",
    "plt.savefig(\"RT_clockplot_H0725135_OUT.pdf\")\n",
    "plt.savefig(\"RT_clockplot_H0725135_OUT.png\")"
   ]
  },
  {
   "cell_type": "code",
   "execution_count": 167,
   "metadata": {
    "collapsed": false
   },
   "outputs": [
    {
     "name": "stdout",
     "output_type": "stream",
     "text": [
      "[  4.85019124e-04  -9.43690223e-01]\n"
     ]
    },
    {
     "data": {
      "image/png": "[encoded data removed]",
      "text/plain": [
       "<matplotlib.figure.Figure at 0x10b8a3350>"
      ]
     },
     "metadata": {},
     "output_type": "display_data"
    }
   ],
   "source": [
    "#RT SENSITIVITY ANALYSIS\n",
    "RT_reference_seq = RT_ntdiff_dict['R0222042|2007-02-22|RT']['seq']\n",
    "\n",
    "for key in RT_ntdiff_dict.keys():\n",
    "    if key == 'R0222042|2007-02-22|RT':\n",
    "        RT_ntdiff_dict[key]['diff_per_site'] = 'Reference'\n",
    "    else:\n",
    "        comp_seq = RT_ntdiff_dict[key]['seq']\n",
    "        nt_diffs = count_nt_diffs(RT_reference_seq, comp_seq)\n",
    "        RT_ntdiff_dict[key]['nt_diffs'] = nt_diffs\n",
    "        nt_diff_per_site = (float(nt_diffs)/float(len(comp_seq)))\n",
    "        RT_ntdiff_dict[key]['diff_per_site'] = nt_diff_per_site\n",
    "        \n",
    "RT_dates_list = []\n",
    "RT_nt_diffs_list = []\n",
    "for key in RT_ntdiff_dict.keys():\n",
    "    if key == 'R0222042|2007-02-22|RT':\n",
    "        continue #this is the reference\n",
    "    else:\n",
    "        RT_dates_list.append(float(RT_ntdiff_dict[key]['date']))\n",
    "        RT_nt_diffs_list.append(float(RT_ntdiff_dict[key]['diff_per_site']))\n",
    "        \n",
    "RT_linear_line_fit = np.polyfit(RT_dates_list, RT_nt_diffs_list, deg=1)#1-degree ploynomial is a linear line\n",
    "print RT_linear_line_fit\n",
    "#returns a list where [0] is slope and [1] is the y-intercept\n",
    "\n",
    "fig, ax = plt.subplots()\n",
    "plotting_years = range(1990,2020)\n",
    "\n",
    "ax.plot(plotting_years, (RT_linear_line_fit[0] * np.array(plotting_years) + RT_linear_line_fit[1]), color='red')\n",
    "ax.scatter(RT_dates_list, RT_nt_diffs_list)\n",
    "ax.axis([1990,2020,0,0.25])\n",
    "plt.xlabel(\"Sampling Year\")\n",
    "plt.ylabel(\"Nt differences per site\")\n",
    "plt.title('HIV Controls - RT (slope = 4.85e-04)')\n",
    "\n",
    "plt.savefig(\"RT_clockplot_R0222042_OUT.pdf\")\n",
    "plt.savefig(\"RT_clockplot_R0222042_OUT.png\")"
   ]
  }
 ],
 "metadata": {
  "kernelspec": {
   "display_name": "Python 2",
   "language": "python",
   "name": "python2"
  },
  "language_info": {
   "codemirror_mode": {
    "name": "ipython",
    "version": 2
   },
   "file_extension": ".py",
   "mimetype": "text/x-python",
   "name": "python",
   "nbconvert_exporter": "python",
   "pygments_lexer": "ipython2",
   "version": "2.7.10"
  }
 },
 "nbformat": 4,
 "nbformat_minor": 0
}
