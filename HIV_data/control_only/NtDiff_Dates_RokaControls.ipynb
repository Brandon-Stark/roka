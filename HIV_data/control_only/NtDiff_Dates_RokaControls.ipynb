{
 "cells": [
  {
   "cell_type": "markdown",
   "metadata": {},
   "source": [
    "#### This notebook re-creates plots similar to Path-O-Gen output but the evolutionary distance is pairwise nt distances only (no correction for back mutation via evolutionary models). This should output a clock rate based on a regression that is unaffected by recombination.\n",
    "\n",
    "#### The goal of doing this is to check whether this is similar to clock estimates from Path-O-Gen and from BEAST control runs.\n",
    "\n",
    "#### Reference sequence is the most basal sequence from the best-rooted tree exported from Path-O-Gen\n",
    "* Reference for Env: H0725135|1997-07-25|env\n",
    "* Reference for Prot: H0725135|1997-07-25|prot and trying T0527136|2009-05-27|prot (outgroup appears different depending on whether best root is selected in path-o-gen or not)\n",
    "* Reference for RT: H0725135|1997-07-25|RT and R0222042|2007-02-22|RT (outgroup appears different depending on whether best root is selected in path-o-gen or not)\n"
   ]
  },
  {
   "cell_type": "code",
   "execution_count": 77,
   "metadata": {
    "collapsed": false
   },
   "outputs": [],
   "source": [
    "#Import necessary libraries\n",
    "import matplotlib\n",
    "import numpy as np\n",
    "import matplotlib.pyplot as plt\n",
    "from Bio import SeqIO\n",
    "%matplotlib inline"
   ]
  },
  {
   "cell_type": "markdown",
   "metadata": {},
   "source": [
    "## ENV sequences"
   ]
  },
  {
   "cell_type": "code",
   "execution_count": 6,
   "metadata": {
    "collapsed": false
   },
   "outputs": [],
   "source": [
    "# Measure raw clock rate for Env\n",
    "# Once alignment is read in need to 1) define the reference, 2) count nt diffs from ref for each seq \n",
    "# 3) plot nt differences as a function of sampling date.\n",
    "\n",
    "env_ntdiff_dict = {}\n",
    "\n",
    "with open(\"Env_PathOGen_Data.txt\", 'rU') as f: #rU allows \\n and \\r to designate newline\n",
    "\tfor line in f:\n",
    "\t\tsplit_line = line.split(\"\\t\")\n",
    "\t\tenv_ntdiff_dict[split_line[0]] = {'date': split_line[1].strip()}"
   ]
  },
  {
   "cell_type": "code",
   "execution_count": 35,
   "metadata": {
    "collapsed": false
   },
   "outputs": [
    {
     "name": "stdout",
     "output_type": "stream",
     "text": [
      "2007.139858544376\n"
     ]
    }
   ],
   "source": [
    "print env_ntdiff_dict['R0221192|2007-02-21|env']['date']"
   ]
  },
  {
   "cell_type": "code",
   "execution_count": 12,
   "metadata": {
    "collapsed": true
   },
   "outputs": [],
   "source": [
    "# Add Env control sequences to the env_ntdiff dictionary based on taxon names\n",
    "env_infile = open('env_controls_aligned_DATED.fasta','rU')\n",
    "env_seq_dict = SeqIO.to_dict(SeqIO.parse(env_infile, \"fasta\"))\n",
    "env_infile.close()\n",
    "\n",
    "for key in env_seq_dict.keys():\n",
    "    env_ntdiff_dict[key]['seq'] = env_seq_dict[key].seq.upper()"
   ]
  },
  {
   "cell_type": "code",
   "execution_count": 181,
   "metadata": {
    "collapsed": true
   },
   "outputs": [],
   "source": [
    "#function to define the number of nt differences between a comparator sequence and a reference seq\n",
    "#gaps and ambiguous bases are considered missing information, and therefore do not count as nt differences\n",
    "#reference and comparator are strings of nt sequence (eg 'ACCTTGGG')\n",
    "def count_nt_diffs(reference,comparator):\n",
    "    counter = 0\n",
    "    reference = reference.upper()\n",
    "    comparator = comparator.upper()\n",
    "    for (a,b) in zip(reference,comparator):\n",
    "        if a == b:\n",
    "            counter += 0\n",
    "        elif a == '-':\n",
    "            continue\n",
    "        elif b == '-':\n",
    "            continue\n",
    "        elif a in ['A','C','G','T'] and b in ['A','C','G','T']:\n",
    "            if a != b:\n",
    "                counter += 1\n",
    "    return counter"
   ]
  },
  {
   "cell_type": "code",
   "execution_count": 182,
   "metadata": {
    "collapsed": true
   },
   "outputs": [],
   "source": [
    "#function to determine the informative sequence length, ie sequence length excluding gaps and ambiguous bases\n",
    "#this is the denominator that we need to use to determine the number of nt differences per site.\n",
    "#as above, reference and comparator are strings of nt sequence\n",
    "def count_informative_length(reference,comparator):\n",
    "    length = 0\n",
    "    reference = reference.upper()\n",
    "    comparator = comparator.upper()\n",
    "    for (a,b) in zip(reference,comparator):\n",
    "        if a in ['A','C','G','T'] and b in ['A','C','G','T']:\n",
    "            length += 1\n",
    "    return length"
   ]
  },
  {
   "cell_type": "code",
   "execution_count": 185,
   "metadata": {
    "collapsed": false
   },
   "outputs": [
    {
     "name": "stdout",
     "output_type": "stream",
     "text": [
      "1\n",
      "3\n",
      "0.333333333333\n"
     ]
    }
   ],
   "source": [
    "#Test difference and length counter functions\n",
    "#with the test sequences below there should only be 3 informative sites, and 1 nt difference\n",
    "seq1 = 'AaA--T'\n",
    "seq2 = 'AaGaA-'\n",
    "\n",
    "trial_count = count_nt_diffs(seq1, seq2)\n",
    "trial_length = count_informative_length(seq1,seq2)\n",
    "\n",
    "print trial_count\n",
    "print trial_length\n",
    "print float(trial_count)/float(trial_length)\n",
    "\n",
    "#Sweet, appears to work the way I want it to"
   ]
  },
  {
   "cell_type": "code",
   "execution_count": 186,
   "metadata": {
    "collapsed": false
   },
   "outputs": [],
   "source": [
    "env_reference_seq = env_ntdiff_dict['H0725135|1997-07-25|env']['seq']\n",
    "#print len(env_ntdiff_dict['H0725135|1997-07-25|env']['seq'])\n",
    "\n",
    "for key in env_ntdiff_dict.keys():\n",
    "    if key == 'H0725135|1997-07-25|env':\n",
    "        env_ntdiff_dict[key]['diff_per_site'] = 'Reference'\n",
    "    else:\n",
    "        comp_seq = env_ntdiff_dict[key]['seq']\n",
    "        nt_diffs = count_nt_diffs(env_reference_seq, comp_seq)\n",
    "        informative_length = count_informative_length(env_reference_seq, comp_seq)\n",
    "        \n",
    "        env_ntdiff_dict[key]['nt_diffs'] = nt_diffs\n",
    "        nt_diff_per_site = (float(nt_diffs)/float(informative_length))\n",
    "        env_ntdiff_dict[key]['diff_per_site'] = nt_diff_per_site"
   ]
  },
  {
   "cell_type": "code",
   "execution_count": 187,
   "metadata": {
    "collapsed": false
   },
   "outputs": [],
   "source": [
    "env_dates_list = []\n",
    "env_nt_diffs_list = []\n",
    "for key in env_ntdiff_dict.keys():\n",
    "    if key == 'H0725135|1997-07-25|env':\n",
    "        continue #this is the reference\n",
    "    else:\n",
    "        env_dates_list.append(float(env_ntdiff_dict[key]['date']))\n",
    "        env_nt_diffs_list.append(float(env_ntdiff_dict[key]['diff_per_site']))"
   ]
  },
  {
   "cell_type": "code",
   "execution_count": 197,
   "metadata": {
    "collapsed": false
   },
   "outputs": [
    {
     "name": "stdout",
     "output_type": "stream",
     "text": [
      "[  1.34740927e-03  -2.46840526e+00]\n"
     ]
    },
    {
     "data": {
      "image/png": "[encoded data removed]",
      "text/plain": [
       "<matplotlib.figure.Figure at 0x10b5dff90>"
      ]
     },
     "metadata": {},
     "output_type": "display_data"
    }
   ],
   "source": [
    "env_linear_line_fit = np.polyfit(env_dates_list, env_nt_diffs_list, deg=1)#1-degree ploynomial is a linear line\n",
    "print env_linear_line_fit\n",
    "#returns a list where [0] is slope and [1] is the y-intercept\n",
    "\n",
    "fig, ax = plt.subplots()\n",
    "plotting_years = range(1990,2020)\n",
    "\n",
    "ax.plot(plotting_years, (env_linear_line_fit[0] * np.array(plotting_years) + env_linear_line_fit[1]), color='red')\n",
    "ax.scatter(env_dates_list, env_nt_diffs_list)\n",
    "ax.axis([1990,2020,0,0.3])\n",
    "plt.xlabel(\"Sampling Year\")\n",
    "plt.ylabel(\"Nt differences per site\")\n",
    "plt.title('HIV Controls - ENV (slope = 1.35e-03)')\n",
    "\n",
    "plt.savefig(\"Env_clockplot_H0725135_OUT.pdf\")\n",
    "plt.savefig(\"Env_clockplot_H0725135_OUT.png\")"
   ]
  },
  {
   "cell_type": "markdown",
   "metadata": {},
   "source": [
    "## Prot Sequences"
   ]
  },
  {
   "cell_type": "code",
   "execution_count": 191,
   "metadata": {
    "collapsed": false
   },
   "outputs": [
    {
     "name": "stdout",
     "output_type": "stream",
     "text": [
      "1997.5627424138718\n"
     ]
    }
   ],
   "source": [
    "prot_ntdiff_dict = {}\n",
    "\n",
    "with open(\"Prot_PathOGen_Data.txt\", 'rU') as f: #rU allows \\n and \\r to designate newline\n",
    "\tfor line in f:\n",
    "\t\tsplit_line = line.split(\"\\t\")\n",
    "\t\tprot_ntdiff_dict[split_line[0]] = {'date': split_line[1].strip()}\n",
    "\n",
    "print prot_ntdiff_dict['H0725135|1997-07-25|prot']['date']"
   ]
  },
  {
   "cell_type": "code",
   "execution_count": 192,
   "metadata": {
    "collapsed": true
   },
   "outputs": [],
   "source": [
    "# Add Prot control sequences to the prot_ntdiff dictionary based on taxon names\n",
    "prot_infile = open('prot_controls_aligned_DATED.fasta','rU')\n",
    "prot_seq_dict = SeqIO.to_dict(SeqIO.parse(prot_infile, \"fasta\"))\n",
    "prot_infile.close()\n",
    "\n",
    "for key in prot_seq_dict.keys():\n",
    "    prot_ntdiff_dict[key]['seq'] = prot_seq_dict[key].seq.upper()"
   ]
  },
  {
   "cell_type": "code",
   "execution_count": 193,
   "metadata": {
    "collapsed": false
   },
   "outputs": [],
   "source": [
    "prot_reference_seq = prot_ntdiff_dict['H0725135|1997-07-25|prot']['seq']\n",
    "\n",
    "for key in prot_ntdiff_dict.keys():\n",
    "    if key == 'H0725135|1997-07-25|prot':\n",
    "        prot_ntdiff_dict[key]['diff_per_site'] = 'Reference'\n",
    "    else:\n",
    "        comp_seq = prot_ntdiff_dict[key]['seq']\n",
    "        nt_diffs = count_nt_diffs(prot_reference_seq, comp_seq)\n",
    "        informative_length = count_informative_length(prot_reference_seq, comp_seq)\n",
    "        \n",
    "        prot_ntdiff_dict[key]['nt_diffs'] = nt_diffs\n",
    "        nt_diff_per_site = (float(nt_diffs)/float(informative_length))\n",
    "        prot_ntdiff_dict[key]['diff_per_site'] = nt_diff_per_site"
   ]
  },
  {
   "cell_type": "code",
   "execution_count": 194,
   "metadata": {
    "collapsed": true
   },
   "outputs": [],
   "source": [
    "prot_dates_list = []\n",
    "prot_nt_diffs_list = []\n",
    "for key in prot_ntdiff_dict.keys():\n",
    "    if key == 'H0725135|1997-07-25|prot':\n",
    "        continue #this is the reference\n",
    "    else:\n",
    "        prot_dates_list.append(float(prot_ntdiff_dict[key]['date']))\n",
    "        prot_nt_diffs_list.append(float(prot_ntdiff_dict[key]['diff_per_site']))"
   ]
  },
  {
   "cell_type": "code",
   "execution_count": 198,
   "metadata": {
    "collapsed": false
   },
   "outputs": [
    {
     "name": "stdout",
     "output_type": "stream",
     "text": [
      "[  1.55539155e-03  -3.09269429e+00]\n"
     ]
    },
    {
     "data": {
      "image/png": "[encoded data removed]",
      "text/plain": [
       "<matplotlib.figure.Figure at 0x10be9f610>"
      ]
     },
     "metadata": {},
     "output_type": "display_data"
    }
   ],
   "source": [
    "prot_linear_line_fit = np.polyfit(prot_dates_list, prot_nt_diffs_list, deg=1)#1-degree ploynomial is a linear line\n",
    "print prot_linear_line_fit\n",
    "#returns a list where [0] is slope and [1] is the y-intercept\n",
    "\n",
    "fig, ax = plt.subplots()\n",
    "plotting_years = range(1990,2020)\n",
    "\n",
    "ax.plot(plotting_years, (prot_linear_line_fit[0] * np.array(plotting_years) + prot_linear_line_fit[1]), color='red')\n",
    "ax.scatter(prot_dates_list, prot_nt_diffs_list)\n",
    "ax.axis([1990,2020,0,0.3])\n",
    "plt.xlabel(\"Sampling Year\")\n",
    "plt.ylabel(\"Nt differences per site\")\n",
    "plt.title('HIV Controls - PROT (slope = 1.56e-03)')\n",
    "\n",
    "plt.savefig(\"Prot_clockplot_H0725135_OUT.pdf\")\n",
    "plt.savefig(\"Prot_clockplot_H0725135_OUT.png\")"
   ]
  },
  {
   "cell_type": "code",
   "execution_count": 204,
   "metadata": {
    "collapsed": false
   },
   "outputs": [
    {
     "name": "stdout",
     "output_type": "stream",
     "text": [
      "[  9.12865767e-04  -1.79682148e+00]\n"
     ]
    },
    {
     "data": {
      "image/png": "[encoded data removed]",
      "text/plain": [
       "<matplotlib.figure.Figure at 0x10b6c6d90>"
      ]
     },
     "metadata": {},
     "output_type": "display_data"
    }
   ],
   "source": [
    "#SENSITIVITY ANALYSIS IF USE DIFFERENT OUTGROUP\n",
    "#SLOPE ESTIMATE DOES CHANGE WHEN I USE A DIFFERENT OUTGROUP...\n",
    "prot_reference_seq = prot_ntdiff_dict['T0527136|2009-05-27|prot']['seq']\n",
    "\n",
    "for key in prot_ntdiff_dict.keys():\n",
    "    if key == 'T0527136|2009-05-27|prot':\n",
    "        prot_ntdiff_dict[key]['diff_per_site'] = 'Reference'\n",
    "    else:\n",
    "        comp_seq = prot_ntdiff_dict[key]['seq']\n",
    "        nt_diffs = count_nt_diffs(prot_reference_seq, comp_seq)\n",
    "        informative_length = count_informative_length(prot_reference_seq, comp_seq)\n",
    "        \n",
    "        prot_ntdiff_dict[key]['nt_diffs'] = nt_diffs\n",
    "        nt_diff_per_site = (float(nt_diffs)/float(informative_length))\n",
    "        prot_ntdiff_dict[key]['diff_per_site'] = nt_diff_per_site\n",
    "        \n",
    "prot_dates_list = []\n",
    "prot_nt_diffs_list = []\n",
    "\n",
    "for key in prot_ntdiff_dict.keys():\n",
    "    if key == 'T0527136|2009-05-27|prot':\n",
    "        continue #this is the reference\n",
    "    else:\n",
    "        prot_dates_list.append(float(prot_ntdiff_dict[key]['date']))\n",
    "        prot_nt_diffs_list.append(float(prot_ntdiff_dict[key]['diff_per_site']))\n",
    "        \n",
    "prot_linear_line_fit = np.polyfit(prot_dates_list, prot_nt_diffs_list, deg=1)#1-degree ploynomial is a linear line\n",
    "print prot_linear_line_fit\n",
    "#returns a list where [0] is slope and [1] is the y-intercept\n",
    "\n",
    "fig, ax = plt.subplots()\n",
    "plotting_years = range(1990,2020)\n",
    "\n",
    "ax.plot(plotting_years, (prot_linear_line_fit[0] * np.array(plotting_years) + prot_linear_line_fit[1]), color='red')\n",
    "ax.scatter(prot_dates_list, prot_nt_diffs_list)\n",
    "ax.axis([1990,2020,0,0.3])\n",
    "plt.xlabel(\"Sampling Year\")\n",
    "plt.ylabel(\"Nt differences per site\")\n",
    "plt.title('HIV Controls - PROT (slope = 9.13e-04)')\n",
    "\n",
    "plt.savefig(\"Prot_clockplot_T0527136_OUT.pdf\")\n",
    "plt.savefig(\"Prot_clockplot_T0527136_OUT.png\")"
   ]
  },
  {
   "cell_type": "markdown",
   "metadata": {},
   "source": [
    "## RT Sequences"
   ]
  },
  {
   "cell_type": "code",
   "execution_count": 163,
   "metadata": {
    "collapsed": false
   },
   "outputs": [
    {
     "name": "stdout",
     "output_type": "stream",
     "text": [
      "2012.410107232489\n"
     ]
    }
   ],
   "source": [
    "RT_ntdiff_dict = {}\n",
    "\n",
    "with open(\"RT_PathOGen_Data.txt\", 'rU') as f: #rU allows \\n and \\r to designate newline\n",
    "\tfor line in f:\n",
    "\t\tsplit_line = line.split(\"\\t\")\n",
    "\t\tRT_ntdiff_dict[split_line[0]] = {'date': split_line[1].strip()}\n",
    "\n",
    "# Add RT control sequences to the prot_ntdiff dictionary based on taxon names\n",
    "RT_infile = open('RT_controls_aligned_DATED.fasta','rU')\n",
    "RT_seq_dict = SeqIO.to_dict(SeqIO.parse(RT_infile, \"fasta\"))\n",
    "RT_infile.close()\n",
    "\n",
    "for key in RT_seq_dict.keys():\n",
    "    RT_ntdiff_dict[key]['seq'] = RT_seq_dict[key].seq.upper()\n",
    "\n",
    "print RT_ntdiff_dict['W0530014|2012-05-30|RT']['date']"
   ]
  },
  {
   "cell_type": "code",
   "execution_count": 201,
   "metadata": {
    "collapsed": false
   },
   "outputs": [
    {
     "name": "stdout",
     "output_type": "stream",
     "text": [
      "[  1.34254502e-03  -2.66611815e+00]\n"
     ]
    },
    {
     "data": {
      "image/png": "[encoded data removed]",
      "text/plain": [
       "<matplotlib.figure.Figure at 0x10b5e3b10>"
      ]
     },
     "metadata": {},
     "output_type": "display_data"
    }
   ],
   "source": [
    "RT_reference_seq = RT_ntdiff_dict['H0725135|1997-07-25|RT']['seq']\n",
    "\n",
    "for key in RT_ntdiff_dict.keys():\n",
    "    if key == 'H0725135|1997-07-25|RT':\n",
    "        RT_ntdiff_dict[key]['diff_per_site'] = 'Reference'\n",
    "    else:\n",
    "        comp_seq = RT_ntdiff_dict[key]['seq']\n",
    "        nt_diffs = count_nt_diffs(RT_reference_seq, comp_seq)\n",
    "        informative_length = count_informative_length(RT_reference_seq, comp_seq)\n",
    "        \n",
    "        RT_ntdiff_dict[key]['nt_diffs'] = nt_diffs\n",
    "        nt_diff_per_site = (float(nt_diffs)/float(informative_length))\n",
    "        RT_ntdiff_dict[key]['diff_per_site'] = nt_diff_per_site\n",
    "        \n",
    "RT_dates_list = []\n",
    "RT_nt_diffs_list = []\n",
    "\n",
    "for key in RT_ntdiff_dict.keys():\n",
    "    if key == 'H0725135|1997-07-25|RT':\n",
    "        continue #this is the reference\n",
    "    else:\n",
    "        RT_dates_list.append(float(RT_ntdiff_dict[key]['date']))\n",
    "        RT_nt_diffs_list.append(float(RT_ntdiff_dict[key]['diff_per_site']))\n",
    "        \n",
    "RT_linear_line_fit = np.polyfit(RT_dates_list, RT_nt_diffs_list, deg=1)#1-degree ploynomial is a linear line\n",
    "print RT_linear_line_fit\n",
    "#returns a list where [0] is slope and [1] is the y-intercept\n",
    "\n",
    "fig, ax = plt.subplots()\n",
    "plotting_years = range(1990,2020)\n",
    "\n",
    "ax.plot(plotting_years, (RT_linear_line_fit[0] * np.array(plotting_years) + RT_linear_line_fit[1]), color='red')\n",
    "ax.scatter(RT_dates_list, RT_nt_diffs_list)\n",
    "ax.axis([1990,2020,0,0.3])\n",
    "plt.xlabel(\"Sampling Year\")\n",
    "plt.ylabel(\"Nt differences per site\")\n",
    "plt.title('HIV Controls - RT (slope = 1.34e-03)')\n",
    "\n",
    "plt.savefig(\"RT_clockplot_H0725135_OUT.pdf\")\n",
    "plt.savefig(\"RT_clockplot_H0725135_OUT.png\")"
   ]
  },
  {
   "cell_type": "code",
   "execution_count": 203,
   "metadata": {
    "collapsed": false
   },
   "outputs": [
    {
     "name": "stdout",
     "output_type": "stream",
     "text": [
      "[  6.12572140e-04  -1.19186467e+00]\n"
     ]
    },
    {
     "data": {
      "image/png": "[encoded data removed]",
      "text/plain": [
       "<matplotlib.figure.Figure at 0x10b9a5cd0>"
      ]
     },
     "metadata": {},
     "output_type": "display_data"
    }
   ],
   "source": [
    "#RT SENSITIVITY ANALYSIS\n",
    "RT_reference_seq = RT_ntdiff_dict['R0222042|2007-02-22|RT']['seq']\n",
    "\n",
    "for key in RT_ntdiff_dict.keys():\n",
    "    if key == 'R0222042|2007-02-22|RT':\n",
    "        RT_ntdiff_dict[key]['diff_per_site'] = 'Reference'\n",
    "    else:\n",
    "        comp_seq = RT_ntdiff_dict[key]['seq']\n",
    "        nt_diffs = count_nt_diffs(RT_reference_seq, comp_seq)\n",
    "        informative_length = count_informative_length(RT_reference_seq, comp_seq)\n",
    "        \n",
    "        RT_ntdiff_dict[key]['nt_diffs'] = nt_diffs\n",
    "        nt_diff_per_site = (float(nt_diffs)/float(informative_length))\n",
    "        RT_ntdiff_dict[key]['diff_per_site'] = nt_diff_per_site\n",
    "        \n",
    "RT_dates_list = []\n",
    "RT_nt_diffs_list = []\n",
    "for key in RT_ntdiff_dict.keys():\n",
    "    if key == 'R0222042|2007-02-22|RT':\n",
    "        continue #this is the reference\n",
    "    else:\n",
    "        RT_dates_list.append(float(RT_ntdiff_dict[key]['date']))\n",
    "        RT_nt_diffs_list.append(float(RT_ntdiff_dict[key]['diff_per_site']))\n",
    "        \n",
    "RT_linear_line_fit = np.polyfit(RT_dates_list, RT_nt_diffs_list, deg=1)#1-degree ploynomial is a linear line\n",
    "print RT_linear_line_fit\n",
    "#returns a list where [0] is slope and [1] is the y-intercept\n",
    "\n",
    "fig, ax = plt.subplots()\n",
    "plotting_years = range(1990,2020)\n",
    "\n",
    "ax.plot(plotting_years, (RT_linear_line_fit[0] * np.array(plotting_years) + RT_linear_line_fit[1]), color='red')\n",
    "ax.scatter(RT_dates_list, RT_nt_diffs_list)\n",
    "ax.axis([1990,2020,0,0.3])\n",
    "plt.xlabel(\"Sampling Year\")\n",
    "plt.ylabel(\"Nt differences per site\")\n",
    "plt.title('HIV Controls - RT (slope = 6.13e-04)')\n",
    "\n",
    "plt.savefig(\"RT_clockplot_R0222042_OUT.pdf\")\n",
    "plt.savefig(\"RT_clockplot_R0222042_OUT.png\")"
   ]
  }
 ],
 "metadata": {
  "kernelspec": {
   "display_name": "Python 2",
   "language": "python",
   "name": "python2"
  },
  "language_info": {
   "codemirror_mode": {
    "name": "ipython",
    "version": 2
   },
   "file_extension": ".py",
   "mimetype": "text/x-python",
   "name": "python",
   "nbconvert_exporter": "python",
   "pygments_lexer": "ipython2",
   "version": "2.7.10"
  }
 },
 "nbformat": 4,
 "nbformat_minor": 0
}
